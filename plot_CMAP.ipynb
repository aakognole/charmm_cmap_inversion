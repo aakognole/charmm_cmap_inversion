{
 "cells": [
  {
   "cell_type": "markdown",
   "metadata": {},
   "source": [
    "# plot CMAP"
   ]
  },
  {
   "cell_type": "code",
   "execution_count": null,
   "metadata": {},
   "outputs": [],
   "source": [
    "import numpy as np\n",
    "import matplotlib\n",
    "import matplotlib.pyplot as plt"
   ]
  },
  {
   "cell_type": "code",
   "execution_count": null,
   "metadata": {},
   "outputs": [],
   "source": [
    "L = np.loadtxt('./nparray/l_alanine_cmap.txt')\n",
    "plt.figure(figsize=(9,9))\n",
    "plt.title('L-amino acid CMAP for alanine')\n",
    "plt.contourf(L)\n",
    "plt.xticks(range(0,24), range(-180,181,15))\n",
    "plt.yticks(range(0,24), range(-180,181,15))\n",
    "plt.tight_layout()"
   ]
  },
  {
   "cell_type": "code",
   "execution_count": null,
   "metadata": {},
   "outputs": [],
   "source": [
    "D = np.loadtxt('./nparray/d_alanine_cmap.txt')\n",
    "#plot\n",
    "plt.figure(figsize=(9,9))\n",
    "plt.title('D-amino acid CMAP for alanine')\n",
    "plt.contourf(D)\n",
    "plt.xticks(range(0,24), range(-180,181,15))\n",
    "plt.yticks(range(0,24), range(-180,181,15))\n",
    "plt.tight_layout()"
   ]
  },
  {
   "cell_type": "code",
   "execution_count": null,
   "metadata": {},
   "outputs": [],
   "source": []
  }
 ],
 "metadata": {
  "kernelspec": {
   "display_name": "Python 3",
   "language": "python",
   "name": "python3"
  },
  "language_info": {
   "codemirror_mode": {
    "name": "ipython",
    "version": 3
   },
   "file_extension": ".py",
   "mimetype": "text/x-python",
   "name": "python",
   "nbconvert_exporter": "python",
   "pygments_lexer": "ipython3",
   "version": "3.7.4"
  }
 },
 "nbformat": 4,
 "nbformat_minor": 4
}
